{
 "cells": [
  {
   "cell_type": "markdown",
   "metadata": {},
   "source": [
    "## Imports and setup\n",
    "\n",
    "The firs cell creates a path to the notebook and imports the required library for running the Notebook. "
   ]
  },
  {
   "cell_type": "code",
   "execution_count": 3,
   "metadata": {},
   "outputs": [],
   "source": [
    "# Standard library imports\n",
    "from os import path\n",
    "\n",
    "import sys\n",
    "\n",
    "# Set the path to the root directory of this project\n",
    "module_path = path.abspath(path.join('..'))\n",
    "\n",
    "if module_path not in sys.path:\n",
    "    \n",
    "    sys.path.append(module_path)\n",
    "\n",
    "# Package import\n",
    "from src.lib import Initiate_process"
   ]
  },
  {
   "cell_type": "markdown",
   "metadata": {},
   "source": [
    "## Import Digit Soil SEAR\n",
    "\n",
    "To run this cell you need to set:\n",
    "1. A _project_definition_file_, and\n",
    "2. a _job_file_, that is linked via the _project_definition_file_."
   ]
  },
  {
   "cell_type": "code",
   "execution_count": 4,
   "metadata": {},
   "outputs": [
    {
     "name": "stdout",
     "output_type": "stream",
     "text": [
      "Initiating process with user project file: ~/projects/ai4sh_sueloanalys/project_file_digit-soil_sear.json\n",
      "{'postgresdb': {'db': None, 'host': None, 'host_netrc_id': None},\n",
      " 'process': [{'delete': False,\n",
      "              'overwrite': False,\n",
      "              'src_path': {'ext': 'json', 'volume': '.'},\n",
      "              'verbose': 3}],\n",
      " 'project_path': '/Users/thomasgumbricht/projects/ai4sh_sueloanalys/digit-soil_SEAR',\n",
      " 'userproject': {'user_netrc_id': 'thomasg_xspectre',\n",
      "                 'user_pswd': '',\n",
      "                 'userid': 'thomasg'}}\n",
      "process file:\n",
      "     /Users/thomasgumbricht/projects/ai4sh_sueloanalys/digit-soil_SEAR/doc/json/process_digit-soil_sear.json \n",
      "\n",
      "{'process': [{'overwrite': False,\n",
      "              'parameters': {'data_src_FPN': '/Users/thomasgumbricht/projects/ai4sh_sueloanalys/digit-soil_SEAR/doc/json/process_digit-soil_sear.json',\n",
      "                             'dst_FP': 'database',\n",
      "                             'method_src_FPN': '/Users/thomasgumbricht/projects/ai4sh_sueloanalys/header_dictionary/header_dictionary.csv',\n",
      "                             'user_email_analysis': 'analysis@gmail.com',\n",
      "                             'user_email_logistic': 'logistic@gmail.com',\n",
      "                             'user_email_sampling': 'sampling@gmail.com'},\n",
      "              'sub_process_id': 'import_csv_single-lines'}]}\n",
      "Json process files:\n",
      "     /Users/thomasgumbricht/projects/ai4sh_sueloanalys/digit-soil_SEAR/doc/json/process_digit-soil_sear.json\n",
      "    default_parameter_D:\n",
      "{'postgresdb': {'db': None, 'host': None, 'host_netrc_id': None},\n",
      " 'process': {'delete': False,\n",
      "             'overwrite': False,\n",
      "             'src_path': {'ext': 'json', 'volume': '.'},\n",
      "             'verbose': 3},\n",
      " 'process_path': '',\n",
      " 'project_path': '/Users/thomasgumbricht/projects/ai4sh_sueloanalys/digit-soil_SEAR',\n",
      " 'userproject': {'user_netrc_id': 'thomasg_xspectre',\n",
      "                 'user_pswd': '',\n",
      "                 'userid': 'thomasg'}}\n",
      "\n",
      "    reading jsonObj:\n",
      "    /Users/thomasgumbricht/projects/ai4sh_sueloanalys/digit-soil_SEAR/doc/json/process_digit-soil_sear.json\n",
      "\n",
      "########### STARTING JOB ########### \n",
      "\n",
      "Command file: \n",
      "  process_digit-soil_sear.json (1 ready processes to run)\n",
      "\n",
      "    Running process nr: 0 import_csv_single-lines\n",
      " ❌ ERROR - parameter <{> is missing in the header dictionary\n",
      "  Check the header definition file: /Users/thomasgumbricht/projects/ai4sh_sueloanalys/header_dictionary/header_dictionary.csv\n",
      "  and/or the data file: /Users/thomasgumbricht/projects/ai4sh_sueloanalys/digit-soil_SEAR/doc/json/process_digit-soil_sear.json\n",
      "Done\n"
     ]
    }
   ],
   "source": [
    "\n",
    "user_project_file = '~/projects/ai4sh_sueloanalys/project_file_digit-soil_sear.json'\n",
    "'''\n",
    "job_file = 'ai4sh_import_digit-soil_sear.json'\n",
    "\n",
    "Initiate_process(user_project_file, job_file)\n",
    "\n",
    "'''\n",
    "# or if there is only one proceess file to run\n",
    "\n",
    "process_file = 'doc/json/process_digit-soil_sear.json'\n",
    "\n",
    "Initiate_process(user_project_file, process_file)"
   ]
  }
 ],
 "metadata": {
  "kernelspec": {
   "display_name": "base",
   "language": "python",
   "name": "python3"
  },
  "language_info": {
   "codemirror_mode": {
    "name": "ipython",
    "version": 3
   },
   "file_extension": ".py",
   "mimetype": "text/x-python",
   "name": "python",
   "nbconvert_exporter": "python",
   "pygments_lexer": "ipython3",
   "version": "3.12.4"
  }
 },
 "nbformat": 4,
 "nbformat_minor": 2
}
