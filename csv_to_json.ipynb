{
 "cells": [
  {
   "cell_type": "markdown",
   "metadata": {},
   "source": [
    "## Imports and setup\n",
    "\n",
    "The firs cell creates a path to the notebook and imports the required library for running the Notebook. "
   ]
  },
  {
   "cell_type": "code",
   "execution_count": 1,
   "metadata": {},
   "outputs": [],
   "source": [
    "# Standard library imports\n",
    "from os import path\n",
    "\n",
    "import sys\n",
    "\n",
    "# Set the path to the root directory of this project\n",
    "module_path = path.abspath(path.join('..'))\n",
    "\n",
    "if module_path not in sys.path:\n",
    "    \n",
    "    sys.path.append(module_path)\n",
    "\n",
    "# Package import\n",
    "from src.lib import Initiate_process"
   ]
  },
  {
   "cell_type": "markdown",
   "metadata": {},
   "source": [
    "## Import Digit Soil SEAR\n",
    "\n",
    "To run this cell you need to set:\n",
    "1. A _project_definition_file_, and\n",
    "2. a _job_file_, that is linked via the _project_definition_file_."
   ]
  },
  {
   "cell_type": "code",
   "execution_count": 2,
   "metadata": {},
   "outputs": [
    {
     "name": "stdout",
     "output_type": "stream",
     "text": [
      "Initiating process with user project file: ~/projects/ai4sh_sueloanalys/project_file_digit-soil_sear.json\n",
      "{'postgresdb': {'db': None, 'host': None, 'host_netrc_id': None},\n",
      " 'process': [{'delete': False,\n",
      "              'overwrite': False,\n",
      "              'src_path': {'ext': 'json', 'volume': '.'},\n",
      "              'verbose': 3}],\n",
      " 'project_path': '~/projects/ai4sh_sueloanalys/digit-soil_SEAR',\n",
      " 'userproject': {'user_netrc_id': 'thomasg_xspectre',\n",
      "                 'user_pswd': '',\n",
      "                 'userid': 'thomasg'}}\n",
      "process file:\n",
      "     /Users/thomasgumbricht/projects/ai4sh_sueloanalys/digit-soil_SEAR/doc/json/process_digit-soil_sear.json \n",
      "\n",
      "{'process': [{'overwrite': False,\n",
      "              'parameters': {'data_src_FPN': 'csv_data/AI4SH_SEAR_all_results.csv',\n",
      "                             'dst_FP': 'database',\n",
      "                             'method_src_FPN': '../header_dictionary/header_dictionary.csv',\n",
      "                             'user_email_analysis': 'analysis@gmail.com',\n",
      "                             'user_email_logistic': 'logistic@gmail.com',\n",
      "                             'user_email_sampling': 'sampling@gmail.com'},\n",
      "              'sub_process_id': 'import_csv_single-lines'}]}\n",
      "Json process files:\n",
      "     /Users/thomasgumbricht/projects/ai4sh_sueloanalys/digit-soil_SEAR/doc/json/process_digit-soil_sear.json\n",
      "    default_parameter_D:\n",
      "{'postgresdb': {'db': None, 'host': None, 'host_netrc_id': None},\n",
      " 'process': {'delete': False,\n",
      "             'overwrite': False,\n",
      "             'src_path': {'ext': 'json', 'volume': '.'},\n",
      "             'verbose': 3},\n",
      " 'process_path': '',\n",
      " 'project_path': '~/projects/ai4sh_sueloanalys/digit-soil_SEAR',\n",
      " 'userproject': {'user_netrc_id': 'thomasg_xspectre',\n",
      "                 'user_pswd': '',\n",
      "                 'userid': 'thomasg'}}\n",
      "\n",
      "    reading jsonObj:\n",
      "    /Users/thomasgumbricht/projects/ai4sh_sueloanalys/digit-soil_SEAR/doc/json/process_digit-soil_sear.json\n",
      "\n",
      "########### STARTING JOB ########### \n",
      "\n",
      "Command file: \n",
      "  process_digit-soil_sear.json (1 ready processes to run)\n",
      "\n",
      "    Running process nr: 0 import_csv_single-lines\n",
      "Path does not exist:\n",
      "   /Users/header_dictionary/header_dictionary.csv\n"
     ]
    },
    {
     "ename": "TypeError",
     "evalue": "stat: path should be string, bytes, os.PathLike or integer, not NoneType",
     "output_type": "error",
     "traceback": [
      "\u001b[0;31m---------------------------------------------------------------------------\u001b[0m",
      "\u001b[0;31mTypeError\u001b[0m                                 Traceback (most recent call last)",
      "Cell \u001b[0;32mIn[2], line 13\u001b[0m\n\u001b[1;32m      9\u001b[0m \u001b[38;5;66;03m# or if there is only one proceess file to run\u001b[39;00m\n\u001b[1;32m     11\u001b[0m process_file \u001b[38;5;241m=\u001b[39m \u001b[38;5;124m'\u001b[39m\u001b[38;5;124mdoc/json/process_digit-soil_sear.json\u001b[39m\u001b[38;5;124m'\u001b[39m\n\u001b[0;32m---> 13\u001b[0m Initiate_process(user_project_file, process_file)\n",
      "File \u001b[0;32m~/GitHub_AI4SH/in-situ_data_management/src/lib/import_csv_data_initiate.py:44\u001b[0m, in \u001b[0;36mInitiate_process\u001b[0;34m(user_project_file, process_file)\u001b[0m\n\u001b[1;32m     40\u001b[0m \u001b[38;5;28;01mif\u001b[39;00m process_file_FPN_L:\n\u001b[1;32m     42\u001b[0m     json_job_D \u001b[38;5;241m=\u001b[39m Job_processes_loop(user_default_params_D, process_file_FPN_L)\n\u001b[0;32m---> 44\u001b[0m     Manage_process(user_default_params_D[\u001b[38;5;124m'\u001b[39m\u001b[38;5;124mproject_path\u001b[39m\u001b[38;5;124m'\u001b[39m],json_job_D)\n\u001b[1;32m     46\u001b[0m     \u001b[38;5;28mprint\u001b[39m (\u001b[38;5;124m'\u001b[39m\u001b[38;5;124mDone\u001b[39m\u001b[38;5;124m'\u001b[39m)\n\u001b[1;32m     48\u001b[0m \u001b[38;5;28;01melse\u001b[39;00m:\n",
      "File \u001b[0;32m~/GitHub_AI4SH/in-situ_data_management/src/lib/import_csv_data_process.py:52\u001b[0m, in \u001b[0;36mManage_process\u001b[0;34m(project_FP, json_job_D)\u001b[0m\n\u001b[1;32m     49\u001b[0m \u001b[38;5;66;03m# Redirect process parameters to the corresponding package\u001b[39;00m\n\u001b[1;32m     50\u001b[0m \u001b[38;5;28;01mif\u001b[39;00m sub_process_id \u001b[38;5;241m==\u001b[39m \u001b[38;5;124m'\u001b[39m\u001b[38;5;124mimport_csv_single-lines\u001b[39m\u001b[38;5;124m'\u001b[39m:\n\u001b[0;32m---> 52\u001b[0m     Import_csv_single_line(project_FP,json_job_D[key][p_nr]\u001b[38;5;241m.\u001b[39mprocess_S\u001b[38;5;241m.\u001b[39mprocess)\n\u001b[1;32m     54\u001b[0m \u001b[38;5;28;01melse\u001b[39;00m:\n\u001b[1;32m     56\u001b[0m     error_msg \u001b[38;5;241m=\u001b[39m \u001b[38;5;124m'\u001b[39m\u001b[38;5;124m❌ WARNING sub_process_id <\u001b[39m\u001b[38;5;132;01m%s\u001b[39;00m\u001b[38;5;124m> not available in import_csv_data_process.py\u001b[39m\u001b[38;5;130;01m\\n\u001b[39;00m\u001b[38;5;124m \u001b[39m\u001b[38;5;130;01m\\\u001b[39;00m\n\u001b[1;32m     57\u001b[0m \u001b[38;5;124m        (file: \u001b[39m\u001b[38;5;132;01m%s\u001b[39;00m\u001b[38;5;124m;  process nr \u001b[39m\u001b[38;5;132;01m%s\u001b[39;00m\u001b[38;5;124m)\u001b[39m\u001b[38;5;124m'\u001b[39m \u001b[38;5;241m%\u001b[39m(sub_process_id,\n\u001b[1;32m     58\u001b[0m                                     json_file_name,\n\u001b[1;32m     59\u001b[0m                                     p_nr)\n",
      "File \u001b[0;32m~/GitHub_AI4SH/in-situ_data_management/src/lib/import_csv_data_process.py:77\u001b[0m, in \u001b[0;36mImport_csv_single_line\u001b[0;34m(project_FP, process)\u001b[0m\n\u001b[1;32m     66\u001b[0m \u001b[38;5;250m\u001b[39m\u001b[38;5;124;03m\"\"\"\u001b[39;00m\n\u001b[1;32m     67\u001b[0m \u001b[38;5;124;03m@brief Imports and processes a CSV data file with one record per line for AI4SH.\u001b[39;00m\n\u001b[1;32m     68\u001b[0m \n\u001b[0;32m   (...)\u001b[0m\n\u001b[1;32m     73\u001b[0m \u001b[38;5;124;03m@return None. Prints error messages if files or parameters are invalid.\u001b[39;00m\n\u001b[1;32m     74\u001b[0m \u001b[38;5;124;03m\"\"\"\u001b[39;00m\n\u001b[1;32m     76\u001b[0m \u001b[38;5;66;03m# Check and read the method csv file\u001b[39;00m\n\u001b[0;32m---> 77\u001b[0m data_pack \u001b[38;5;241m=\u001b[39m Parameters_fix(project_FP,process\u001b[38;5;241m.\u001b[39mparameters\u001b[38;5;241m.\u001b[39mmethod_src_FPN)\n\u001b[1;32m     79\u001b[0m \u001b[38;5;28;01mif\u001b[39;00m \u001b[38;5;129;01mnot\u001b[39;00m data_pack:\n\u001b[1;32m     81\u001b[0m     \u001b[38;5;28mprint\u001b[39m(\u001b[38;5;124m'\u001b[39m\u001b[38;5;124m❌ Error in parameter:\u001b[39m\u001b[38;5;124m'\u001b[39m,process\u001b[38;5;241m.\u001b[39mparameters\u001b[38;5;241m.\u001b[39mmethod_src_FPN)\n",
      "File \u001b[0;32m~/GitHub_AI4SH/in-situ_data_management/src/lib/json_4_Ai4SH.py:635\u001b[0m, in \u001b[0;36mParameters_fix\u001b[0;34m(project_FP, method_src_FPN)\u001b[0m\n\u001b[1;32m    611\u001b[0m \u001b[38;5;28;01mdef\u001b[39;00m \u001b[38;5;21mParameters_fix\u001b[39m(project_FP,method_src_FPN):\n\u001b[1;32m    612\u001b[0m \u001b[38;5;250m    \u001b[39m\u001b[38;5;124;03m\"\"\"\u001b[39;00m\n\u001b[1;32m    613\u001b[0m \u001b[38;5;124;03m    @brief Extracts parameter, unit, method, and equipment dictionaries from a method definition CSV file.\u001b[39;00m\n\u001b[1;32m    614\u001b[0m \n\u001b[0;32m   (...)\u001b[0m\n\u001b[1;32m    632\u001b[0m \u001b[38;5;124;03m    @exception Prints error messages if the file path does not exist or if dictionary creation fails.\u001b[39;00m\n\u001b[1;32m    633\u001b[0m \u001b[38;5;124;03m    \"\"\"\u001b[39;00m\n\u001b[0;32m--> 635\u001b[0m     data_pack \u001b[38;5;241m=\u001b[39m Data_read(project_FP,method_src_FPN)\n\u001b[1;32m    637\u001b[0m     \u001b[38;5;28;01mif\u001b[39;00m \u001b[38;5;129;01mnot\u001b[39;00m data_pack:\n\u001b[1;32m    639\u001b[0m         \u001b[38;5;28;01mreturn\u001b[39;00m \u001b[38;5;28;01mNone\u001b[39;00m\n",
      "File \u001b[0;32m~/GitHub_AI4SH/in-situ_data_management/src/lib/json_4_Ai4SH.py:693\u001b[0m, in \u001b[0;36mData_read\u001b[0;34m(project_FP, data_FPN)\u001b[0m\n\u001b[1;32m    687\u001b[0m \u001b[38;5;28;01mdef\u001b[39;00m \u001b[38;5;21mData_read\u001b[39m(project_FP,data_FPN):\n\u001b[1;32m    688\u001b[0m \n\u001b[1;32m    689\u001b[0m     \u001b[38;5;66;03m#SET_RELATIVE_PATH_TO_MAIN\u001b[39;00m\n\u001b[1;32m    691\u001b[0m     data_FPN \u001b[38;5;241m=\u001b[39m Full_path_locate(project_FP, data_FPN)\n\u001b[0;32m--> 693\u001b[0m     \u001b[38;5;28;01mif\u001b[39;00m \u001b[38;5;129;01mnot\u001b[39;00m path\u001b[38;5;241m.\u001b[39mexists(data_FPN):\n\u001b[1;32m    695\u001b[0m         \u001b[38;5;28mprint\u001b[39m (\u001b[38;5;124m\"\u001b[39m\u001b[38;5;124m❌ The data path does not exist: \u001b[39m\u001b[38;5;132;01m%s\u001b[39;00m\u001b[38;5;124m\"\u001b[39m \u001b[38;5;241m%\u001b[39m (data_FPN))\n\u001b[1;32m    697\u001b[0m         \u001b[38;5;28;01mreturn\u001b[39;00m \u001b[38;5;28;01mNone\u001b[39;00m\n",
      "File \u001b[0;32m<frozen genericpath>:19\u001b[0m, in \u001b[0;36mexists\u001b[0;34m(path)\u001b[0m\n",
      "\u001b[0;31mTypeError\u001b[0m: stat: path should be string, bytes, os.PathLike or integer, not NoneType"
     ]
    }
   ],
   "source": [
    "\n",
    "user_project_file = '~/projects/ai4sh_sueloanalys/project_file_digit-soil_sear.json'\n",
    "'''\n",
    "job_file = 'ai4sh_import_digit-soil_sear.json'\n",
    "\n",
    "Initiate_process(user_project_file, job_file)\n",
    "\n",
    "'''\n",
    "# or if there is only one proceess file to run\n",
    "\n",
    "process_file = 'doc/json/process_digit-soil_sear.json'\n",
    "\n",
    "Initiate_process(user_project_file, process_file)"
   ]
  }
 ],
 "metadata": {
  "kernelspec": {
   "display_name": "base",
   "language": "python",
   "name": "python3"
  },
  "language_info": {
   "codemirror_mode": {
    "name": "ipython",
    "version": 3
   },
   "file_extension": ".py",
   "mimetype": "text/x-python",
   "name": "python",
   "nbconvert_exporter": "python",
   "pygments_lexer": "ipython3",
   "version": "3.12.4"
  }
 },
 "nbformat": 4,
 "nbformat_minor": 2
}
